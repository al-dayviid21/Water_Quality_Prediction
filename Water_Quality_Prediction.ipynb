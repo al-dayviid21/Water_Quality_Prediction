{
 "cells": [
  {
   "cell_type": "markdown",
   "id": "d1aa4e64-6aad-419f-b8dc-cb6cdae8738f",
   "metadata": {},
   "source": [
    "# Introduction"
   ]
  },
  {
   "cell_type": "markdown",
   "id": "a3e08130-0bac-4a1b-ad35-71f9dd517dfe",
   "metadata": {},
   "source": [
    "Numerous variables, including the quantity of salt (or salinity), bacteria levels, dissolved oxygen concentrations, and the amount of debris suspended in the water, are used to determine the quality of water. To assess the water quality in some bodies of water, measurements of the amount of pesticides, herbicides, heavy metals, and other contaminants may also be made.\n",
    "\n",
    "Even though water quality is determined by scientific measurements, it is not as straightforward as saying \"that water is good\" or \"that water is terrible.\" Therefore, the decision is often based on the water's intended use—is it for drinking, washing a car with, or something else?\n",
    "\n",
    "Thus, the aim of this project is to predict the quality of water for drinking purpose. Given parameters such as pH, Hardness, Solids, Chlroamines, Sulfate, Organic_Carbon, Trihalomethaes, Turbidity the Potability is predicted."
   ]
  },
  {
   "cell_type": "markdown",
   "id": "60853145-c01c-43ee-bc34-ba696c4b2c2c",
   "metadata": {},
   "source": [
    "# Import Statements"
   ]
  },
  {
   "cell_type": "code",
   "execution_count": null,
   "id": "ad08d0e1-085e-4d69-9ad2-f64e4b562682",
   "metadata": {},
   "outputs": [],
   "source": []
  }
 ],
 "metadata": {
  "kernelspec": {
   "display_name": "Python 3 (ipykernel)",
   "language": "python",
   "name": "python3"
  },
  "language_info": {
   "codemirror_mode": {
    "name": "ipython",
    "version": 3
   },
   "file_extension": ".py",
   "mimetype": "text/x-python",
   "name": "python",
   "nbconvert_exporter": "python",
   "pygments_lexer": "ipython3",
   "version": "3.9.13"
  },
  "widgets": {
   "application/vnd.jupyter.widget-state+json": {
    "state": {},
    "version_major": 2,
    "version_minor": 0
   }
  }
 },
 "nbformat": 4,
 "nbformat_minor": 5
}
